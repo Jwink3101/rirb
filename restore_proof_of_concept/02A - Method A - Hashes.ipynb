{
 "cells": [
  {
   "cell_type": "markdown",
   "id": "60486b63-76a3-45fa-b755-0e035bb94f05",
   "metadata": {},
   "source": [
    "# Method A -- Hashes\n",
    "\n",
    "This demo will restore based on hashes. Keeping metadata is out of scope though can be easily implimented.\n",
    "\n",
    "Algorithm:\n",
    "\n",
    "1. Load desired state with hashes\n",
    "2. Using the `backed_up_files.json.gz` and final `curr.json.gz` file, build a hash mapping of all files.\n",
    "    - Doesn't *really* matter but work backwards so the oldest files come first\n",
    "3. Use the map to build the transfer\n",
    "\n",
    "After that, you can transfer the files. Note, that the transfer can be optimized but for now, we will just do it dumbly (in another file)"
   ]
  },
  {
   "cell_type": "code",
   "execution_count": null,
   "id": "1d537f92-361a-423c-8e2b-84ba591d30d8",
   "metadata": {},
   "outputs": [],
   "source": [
    "import subprocess\n",
    "import shutil\n",
    "from pathlib import Path\n",
    "import os,sys\n",
    "import json\n",
    "import gzip as gz"
   ]
  },
  {
   "cell_type": "code",
   "execution_count": null,
   "id": "b49f3114-3f1a-4a65-9e34-a21654ac1d8a",
   "metadata": {},
   "outputs": [],
   "source": [
    "if (abspath := os.path.abspath('../')) not in sys.path:\n",
    "    sys.path.insert(0,abspath)\n",
    "import rirb"
   ]
  },
  {
   "cell_type": "markdown",
   "id": "95cb7fd8-11f4-4a02-b94a-b63b2edd9554",
   "metadata": {},
   "source": [
    "## Local Copy of Logs\n",
    "\n",
    "We have direct access to the logs, but let's assume we don't."
   ]
  },
  {
   "cell_type": "code",
   "execution_count": null,
   "id": "ae0b9088-40f5-4509-804d-612971758b76",
   "metadata": {},
   "outputs": [],
   "source": [
    "dst = '../tests/testdirs/restore_poc/dst/' # Your rclone remote including : if needed\n",
    "loclogs = Path('DEST/logs') # Should be LOCAL\n",
    "\n",
    "try:\n",
    "    shutil.rmtree(loclogs)\n",
    "except OSError:\n",
    "    pass\n",
    "Path(loclogs).mkdir(parents=True,exist_ok=False)\n",
    "(Path(loclogs) / '.ignore').touch()"
   ]
  },
  {
   "cell_type": "code",
   "execution_count": null,
   "id": "318bc8a2-f2b1-419b-9c4b-e2a96e843af7",
   "metadata": {},
   "outputs": [],
   "source": [
    "cmd = ['rclone','copy',\n",
    "       rirb.utils.pathjoin(dst,'logs'),loclogs,\n",
    "       '--exclude','log.log']\n",
    "subprocess.call(cmd)"
   ]
  },
  {
   "cell_type": "markdown",
   "id": "86770078-a2d6-475e-8b07-5301dc06e117",
   "metadata": {},
   "source": [
    "Load the states and delete the early ones we don't care about.\n",
    "\n",
    "For this demo, we want to restore State 1 (0-based) so we don't care about the earlier.\n",
    "\n",
    "Make sure to handle timezones"
   ]
  },
  {
   "cell_type": "code",
   "execution_count": null,
   "id": "7c14360c-c7ff-4228-b05f-0885f99a3a74",
   "metadata": {},
   "outputs": [],
   "source": [
    "def rirb_timestamp_to_unix(timestr):\n",
    "    \"\"\"\n",
    "    Convert from the timestamps used in rirb to unitx time.\n",
    "    \n",
    "    Leverages rirb.utils.RFC3339_to_unix by first converting the\n",
    "    string to the RFC3339 used in rclone\n",
    "        Input:        2022-12-17T183002.859829-0700\n",
    "        rclone style: 2022-12-17T18:30:02.859829-07:00\n",
    "        Unix:         1671327002.859829\n",
    "    \"\"\"\n",
    "    date,time = timestr.split('T')\n",
    "    time = f'{time[:2]}:{time[2:4]}:{time[4:6]}{time[6:-2]}:{time[-2:]}'\n",
    "    return rirb.utils.RFC3339_to_unix(f'{date}T{time}')"
   ]
  },
  {
   "cell_type": "code",
   "execution_count": null,
   "id": "f3ac207d-310b-4bcf-9de7-54842bb046e1",
   "metadata": {},
   "outputs": [],
   "source": [
    "states = sorted((d for d in loclogs.iterdir() if d.is_dir()),\n",
    "                key=lambda p:rirb_timestamp_to_unix(p.name))\n",
    "DESIRED = 1\n",
    "states"
   ]
  },
  {
   "cell_type": "code",
   "execution_count": null,
   "id": "3953fd3f-3a08-4b53-942b-07a2c046e390",
   "metadata": {},
   "outputs": [],
   "source": [
    "# Optional to be faster. Doesn't matter though\n",
    "# states = states[DESIRED:]\n",
    "# DESIRED = 0 # Reset since we truncated"
   ]
  },
  {
   "cell_type": "code",
   "execution_count": null,
   "id": "6d0cfe4a-4409-4e3d-bc57-d69da431f736",
   "metadata": {},
   "outputs": [],
   "source": [
    "states"
   ]
  },
  {
   "cell_type": "markdown",
   "id": "cf72b2b2-41eb-40bf-a377-06d1832f1106",
   "metadata": {},
   "source": [
    "## Build a mapping of hash to filepath "
   ]
  },
  {
   "cell_type": "code",
   "execution_count": null,
   "id": "bbc29d1d-9e73-4922-a6cd-e08a4830a0d6",
   "metadata": {},
   "outputs": [],
   "source": [
    "hashes = {}"
   ]
  },
  {
   "cell_type": "markdown",
   "id": "cec22397-7585-4086-b046-9ea2546704e8",
   "metadata": {},
   "source": [
    "Use the `curr` first"
   ]
  },
  {
   "cell_type": "code",
   "execution_count": null,
   "id": "545f1bd5-35e7-46bd-9174-670b22ce7ccc",
   "metadata": {},
   "outputs": [],
   "source": [
    "state = states[-1]\n",
    "with gz.open(state / 'curr.json.gz') as cfile:\n",
    "    files = json.load(cfile)\n",
    "for filename,data in files.items():\n",
    "    hashes[data['Hashes']['sha1']] = os.path.join('curr',filename)"
   ]
  },
  {
   "cell_type": "code",
   "execution_count": null,
   "id": "9192d626-f530-4c4b-ac46-48db1664dc44",
   "metadata": {},
   "outputs": [],
   "source": []
  },
  {
   "cell_type": "markdown",
   "id": "709e8a64-5d72-4f3c-95a5-d26f98bfaf79",
   "metadata": {},
   "source": [
    "Now look at the backs."
   ]
  },
  {
   "cell_type": "code",
   "execution_count": null,
   "id": "24e2e2bb-679d-413a-8a61-ca742ad656fa",
   "metadata": {},
   "outputs": [],
   "source": [
    "for state in states[::-1]:\n",
    "    backfile = state / 'backed_up_files.json.gz'\n",
    "    if not backfile.exists():\n",
    "        continue\n",
    "    backpath = Path('back') / state.name\n",
    "    \n",
    "    with gz.open(backfile) as bfile:\n",
    "        files = json.load(bfile)\n",
    "    \n",
    "    for filename,data in files.items():\n",
    "        hashes[data['Hashes']['sha1']] = str(backpath /filename)\n",
    "    "
   ]
  },
  {
   "cell_type": "code",
   "execution_count": null,
   "id": "9f2ba0c4-56e1-4149-ab3e-ababe2378948",
   "metadata": {},
   "outputs": [],
   "source": [
    "hashes"
   ]
  },
  {
   "cell_type": "markdown",
   "id": "afebe2d9-6ab4-43ad-a1c4-d9f2f15d324c",
   "metadata": {},
   "source": [
    "## Load the desired "
   ]
  },
  {
   "cell_type": "code",
   "execution_count": null,
   "id": "1eed0ee1-b278-4c6a-8ffb-edff1b87dabc",
   "metadata": {},
   "outputs": [],
   "source": [
    "with gz.open(states[DESIRED] / 'curr.json.gz') as cfile:\n",
    "    files = json.load(cfile)\n",
    "statefiles = {file:data['Hashes']['sha1'] for file,data in files.items()}"
   ]
  },
  {
   "cell_type": "code",
   "execution_count": null,
   "id": "eac73e8e-1a83-4987-8e0f-3e0a04c514c9",
   "metadata": {},
   "outputs": [],
   "source": [
    "transfers = [] # (SRC,DST) pair\n",
    "for statefile,statehash in statefiles.items():\n",
    "    transfers.append( (hashes[statehash],statefile))\n"
   ]
  },
  {
   "cell_type": "code",
   "execution_count": null,
   "id": "c76c7f49-1cc2-487f-80e8-3da113192c76",
   "metadata": {},
   "outputs": [],
   "source": [
    "with open('transfer_A_hashes.json','wt') as f:\n",
    "    json.dump(transfers,f,indent=1,ensure_ascii=False)"
   ]
  },
  {
   "cell_type": "code",
   "execution_count": null,
   "id": "d4cda570-9972-4b2f-bc94-7b697afba0ca",
   "metadata": {},
   "outputs": [],
   "source": [
    "transfers"
   ]
  },
  {
   "cell_type": "code",
   "execution_count": null,
   "id": "6d89e632-ee9f-4a18-94cf-d67bfd0929d7",
   "metadata": {},
   "outputs": [],
   "source": []
  }
 ],
 "metadata": {
  "kernelspec": {
   "display_name": "Python 3 (ipykernel)",
   "language": "python",
   "name": "python3"
  },
  "language_info": {
   "codemirror_mode": {
    "name": "ipython",
    "version": 3
   },
   "file_extension": ".py",
   "mimetype": "text/x-python",
   "name": "python",
   "nbconvert_exporter": "python",
   "pygments_lexer": "ipython3",
   "version": "3.9.12"
  }
 },
 "nbformat": 4,
 "nbformat_minor": 5
}
