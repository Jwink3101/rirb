{
 "cells": [
  {
   "cell_type": "markdown",
   "id": "60486b63-76a3-45fa-b755-0e035bb94f05",
   "metadata": {},
   "source": [
    "# Method B -- Diffs\n",
    "\n",
    "This demo will restore based on tracking the diffs. Keeping metadata is out of scope though can be easily implimented.\n",
    "\n",
    "**Efficiency is not a priority**. THis can be optimized latter\n",
    "\n",
    "Algorithm:\n",
    "\n",
    "1. Load desired state with hashes\n",
    "2. Load all of the diffs. Walk forward on each file until it \"terminates\" (was deleted or modified). Also track renames\n",
    "\n",
    "After that, you can transfer the files. Note, that the transfer can be optimized but for now, we will just do it dumbly (in another file)"
   ]
  },
  {
   "cell_type": "code",
   "execution_count": null,
   "id": "1d537f92-361a-423c-8e2b-84ba591d30d8",
   "metadata": {},
   "outputs": [],
   "source": [
    "import subprocess\n",
    "import shutil\n",
    "from pathlib import Path\n",
    "import os,sys\n",
    "import json\n",
    "import gzip as gz\n",
    "from collections import OrderedDict"
   ]
  },
  {
   "cell_type": "code",
   "execution_count": null,
   "id": "b49f3114-3f1a-4a65-9e34-a21654ac1d8a",
   "metadata": {},
   "outputs": [],
   "source": [
    "if (abspath := os.path.abspath('../')) not in sys.path:\n",
    "    sys.path.insert(0,abspath)\n",
    "import rirb"
   ]
  },
  {
   "cell_type": "markdown",
   "id": "95cb7fd8-11f4-4a02-b94a-b63b2edd9554",
   "metadata": {},
   "source": [
    "## Local Copy of Logs\n",
    "\n",
    "We have direct access to the logs, but let's assume we don't."
   ]
  },
  {
   "cell_type": "code",
   "execution_count": null,
   "id": "ae0b9088-40f5-4509-804d-612971758b76",
   "metadata": {},
   "outputs": [],
   "source": [
    "dst = '../tests/testdirs/restore_poc/dst/' # Your rclone remote including : if needed\n",
    "loclogs = Path('DEST/logs') # Should be LOCAL\n",
    "\n",
    "try:\n",
    "    shutil.rmtree(loclogs)\n",
    "except OSError:\n",
    "    pass\n",
    "Path(loclogs).mkdir(parents=True,exist_ok=False)\n",
    "(Path(loclogs) / '.ignore').touch()"
   ]
  },
  {
   "cell_type": "code",
   "execution_count": null,
   "id": "318bc8a2-f2b1-419b-9c4b-e2a96e843af7",
   "metadata": {},
   "outputs": [],
   "source": [
    "cmd = ['rclone','copy',\n",
    "       rirb.utils.pathjoin(dst,'logs'),loclogs,\n",
    "       '--exclude','log.log']\n",
    "subprocess.call(cmd)"
   ]
  },
  {
   "cell_type": "markdown",
   "id": "86770078-a2d6-475e-8b07-5301dc06e117",
   "metadata": {},
   "source": [
    "Load the states and delete the early ones we don't care about.\n",
    "\n",
    "For this demo, we want to restore State 1 (0-based) so we don't care about the earlier.\n",
    "\n",
    "Make sure to handle timezones"
   ]
  },
  {
   "cell_type": "code",
   "execution_count": null,
   "id": "fe9b3a5d-8751-4f35-8f9e-aaa823b9912f",
   "metadata": {},
   "outputs": [],
   "source": [
    "def rirb_timestamp_to_unix(timestr):\n",
    "    \"\"\"\n",
    "    Convert from the timestamps used in rirb to unitx time.\n",
    "    \n",
    "    Leverages rirb.utils.RFC3339_to_unix by first converting the\n",
    "    string to the RFC3339 used in rclone\n",
    "        Input:        2022-12-17T183002.859829-0700\n",
    "        rclone style: 2022-12-17T18:30:02.859829-07:00\n",
    "        Unix:         1671327002.859829\n",
    "    \"\"\"\n",
    "    date,time = timestr.split('T')\n",
    "    time = f'{time[:2]}:{time[2:4]}:{time[4:6]}{time[6:-2]}:{time[-2:]}'\n",
    "    return rirb.utils.RFC3339_to_unix(f'{date}T{time}')"
   ]
  },
  {
   "cell_type": "code",
   "execution_count": null,
   "id": "f3ac207d-310b-4bcf-9de7-54842bb046e1",
   "metadata": {},
   "outputs": [],
   "source": [
    "states = sorted((d for d in loclogs.iterdir() if d.is_dir()),\n",
    "                key=lambda p:rirb_timestamp_to_unix(p.name))\n",
    "DESIRED = 1\n",
    "states"
   ]
  },
  {
   "cell_type": "code",
   "execution_count": null,
   "id": "3953fd3f-3a08-4b53-942b-07a2c046e390",
   "metadata": {},
   "outputs": [],
   "source": [
    "# Optional to be faster. Doesn't matter though\n",
    "# states = states[DESIRED:]\n",
    "# DESIRED = 0 # Reset since we truncated"
   ]
  },
  {
   "cell_type": "markdown",
   "id": "afebe2d9-6ab4-43ad-a1c4-d9f2f15d324c",
   "metadata": {},
   "source": [
    "## Load the desired "
   ]
  },
  {
   "cell_type": "code",
   "execution_count": null,
   "id": "1eed0ee1-b278-4c6a-8ffb-edff1b87dabc",
   "metadata": {},
   "outputs": [],
   "source": [
    "with gz.open(states[DESIRED] / 'curr.json.gz') as cfile:\n",
    "    files = list(json.load(cfile).keys())"
   ]
  },
  {
   "cell_type": "markdown",
   "id": "e136f241-859c-4894-a14d-f79f819b7eef",
   "metadata": {},
   "source": [
    "## Load the diffs\n",
    "\n",
    "The order matters of course. Use `DESIRED+1`"
   ]
  },
  {
   "cell_type": "code",
   "execution_count": null,
   "id": "544299f5-ac49-48b5-9c28-2e162abcd978",
   "metadata": {},
   "outputs": [],
   "source": [
    "diffs = OrderedDict()\n",
    "for state in states[DESIRED+1:]:\n",
    "    with gz.open(state / 'diffs.json.gz') as fobj:\n",
    "        diffs[state] = json.load(fobj)"
   ]
  },
  {
   "cell_type": "code",
   "execution_count": null,
   "id": "29269f14-2712-4db0-9ca1-25c46f752e5b",
   "metadata": {},
   "outputs": [],
   "source": [
    "diffs"
   ]
  },
  {
   "cell_type": "markdown",
   "id": "45eb2018-17e9-4762-af49-18df77f05c25",
   "metadata": {},
   "source": [
    "## Track each file"
   ]
  },
  {
   "cell_type": "code",
   "execution_count": null,
   "id": "86c7de5b-8e1d-4d52-8679-23b370ba6283",
   "metadata": {},
   "outputs": [],
   "source": [
    "transfers = []\n",
    "for file0 in files:\n",
    "    file = file0 # May change with renames\n",
    "    \n",
    "    for state,diff in diffs.items():\n",
    "        backpath = Path('back') / state.name\n",
    "        if file in diff['modified'] + diff['deleted']:\n",
    "            dest = str(backpath / file)\n",
    "            break\n",
    "        for src,dst in diff['renamed']:\n",
    "            if src == file:\n",
    "                file = dst\n",
    "                break # though it won't happen again\n",
    "    else:\n",
    "        dest = Path('curr')  / file\n",
    "    \n",
    "    transfers.append((dest,file0))\n",
    "\n",
    "transfers = [(str(a),str(b)) for a,b in transfers]"
   ]
  },
  {
   "cell_type": "code",
   "execution_count": null,
   "id": "c76c7f49-1cc2-487f-80e8-3da113192c76",
   "metadata": {},
   "outputs": [],
   "source": [
    "with open('transfer_B_tracking.json','wt') as f:\n",
    "    json.dump(transfers,f,indent=1,ensure_ascii=False)"
   ]
  },
  {
   "cell_type": "code",
   "execution_count": null,
   "id": "d4cda570-9972-4b2f-bc94-7b697afba0ca",
   "metadata": {},
   "outputs": [],
   "source": []
  },
  {
   "cell_type": "code",
   "execution_count": null,
   "id": "e9f2b2f1-8b8d-4048-b7bd-c51593c443d3",
   "metadata": {},
   "outputs": [],
   "source": []
  }
 ],
 "metadata": {
  "kernelspec": {
   "display_name": "Python 3 (ipykernel)",
   "language": "python",
   "name": "python3"
  },
  "language_info": {
   "codemirror_mode": {
    "name": "ipython",
    "version": 3
   },
   "file_extension": ".py",
   "mimetype": "text/x-python",
   "name": "python",
   "nbconvert_exporter": "python",
   "pygments_lexer": "ipython3",
   "version": "3.9.12"
  }
 },
 "nbformat": 4,
 "nbformat_minor": 5
}
