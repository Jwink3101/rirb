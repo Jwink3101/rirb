{
 "cells": [
  {
   "cell_type": "markdown",
   "id": "cc8df02d-1e6e-4020-82cd-8f4040933443",
   "metadata": {},
   "source": [
    "# Compare\n",
    "\n",
    "We can compare the results but we need to be careful! They may not be the same since the hash tracking could take any of a duplicate file while the diff tracking will just look at the file itself.\n",
    "\n",
    "As such, we will compare the HASHES the source files (directly computed) as well as the expected state at 1"
   ]
  },
  {
   "cell_type": "code",
   "execution_count": null,
   "id": "67cee4ef-2be9-4000-9636-1a841755261c",
   "metadata": {},
   "outputs": [],
   "source": [
    "import json, shutil, subprocess\n",
    "from pathlib import Path\n",
    "import gzip as gz\n"
   ]
  },
  {
   "cell_type": "code",
   "execution_count": null,
   "id": "c16f391d-b677-471f-8c14-a43c6e8935d1",
   "metadata": {},
   "outputs": [],
   "source": [
    "import os,sys\n",
    "if (abspath := os.path.abspath('../')) not in sys.path:\n",
    "    sys.path.insert(0,abspath)\n",
    "import rirb"
   ]
  },
  {
   "cell_type": "code",
   "execution_count": null,
   "id": "9358ff2e-3c57-4323-836e-c6ca222e5c9b",
   "metadata": {},
   "outputs": [],
   "source": [
    "with open('transfer_A_hashes.json') as f:\n",
    "    mA = set((a,b) for a,b in json.load(f))"
   ]
  },
  {
   "cell_type": "code",
   "execution_count": null,
   "id": "c547a6c9-8431-4c4d-9091-246d115ba52f",
   "metadata": {},
   "outputs": [],
   "source": [
    "with open('transfer_B_tracking.json') as f:\n",
    "    mB = set((a,b) for a,b in json.load(f))"
   ]
  },
  {
   "cell_type": "code",
   "execution_count": null,
   "id": "0fad8a75-ac56-40b7-9f86-5aecfb2b7b62",
   "metadata": {},
   "outputs": [],
   "source": [
    "print(f'{len(mA) = }, {len(mB) = }')\n",
    "print(f'{len(mA) = }, {len(mB) = }')\n",
    "print(f'{len(mA.intersection(mB)) = }')"
   ]
  },
  {
   "cell_type": "code",
   "execution_count": null,
   "id": "1d5e1a30-9c38-4f5c-bdce-dcfa0bf34c72",
   "metadata": {},
   "outputs": [],
   "source": [
    "{dst for src,dst in mA} == {dst for src,dst in mB}"
   ]
  },
  {
   "cell_type": "code",
   "execution_count": null,
   "id": "b476a0e4-c205-423e-ad8b-d747083cb114",
   "metadata": {},
   "outputs": [],
   "source": [
    "print(mA - mB)"
   ]
  },
  {
   "cell_type": "code",
   "execution_count": null,
   "id": "d9dee22f-7725-4f32-a1a7-91b06836d573",
   "metadata": {},
   "outputs": [],
   "source": [
    "print(mB - mA)"
   ]
  },
  {
   "cell_type": "markdown",
   "id": "6cd942b8-ddc5-44e3-958a-2a3d63d0f0ae",
   "metadata": {},
   "source": [
    "## Theoretical Hashes\n",
    "\n",
    "Compute the theoretical hashes of the resulting transfer"
   ]
  },
  {
   "cell_type": "code",
   "execution_count": null,
   "id": "a9152efc-0f87-4efa-bbe2-f2340e2283dc",
   "metadata": {},
   "outputs": [],
   "source": [
    "dst = '../tests/testdirs/restore_poc/dst/' # Your rclone remote including : if needed\n",
    "loclogs = Path('DEST/logs') # Should be LOCAL\n",
    "\n",
    "try:\n",
    "    shutil.rmtree(loclogs)\n",
    "except OSError:\n",
    "    pass\n",
    "Path(loclogs).mkdir(parents=True,exist_ok=False)\n",
    "(Path(loclogs) / '.ignore').touch()"
   ]
  },
  {
   "cell_type": "code",
   "execution_count": null,
   "id": "c6472a06-6a9d-4bdd-9342-bd82d054c5b0",
   "metadata": {},
   "outputs": [],
   "source": [
    "cmd = ['rclone','copy',\n",
    "       rirb.utils.pathjoin(dst,'logs'),loclogs,\n",
    "       '--exclude','log.log']\n",
    "subprocess.call(cmd)"
   ]
  },
  {
   "cell_type": "code",
   "execution_count": null,
   "id": "0918ceaa-b613-4fab-8c48-d4a35c9b290b",
   "metadata": {},
   "outputs": [],
   "source": [
    "states = sorted(d for d in loclogs.iterdir() if d.is_dir())"
   ]
  },
  {
   "cell_type": "code",
   "execution_count": null,
   "id": "5feb6751-3b0e-47c2-be05-7f8c6dc061ee",
   "metadata": {},
   "outputs": [],
   "source": [
    "# Note that this is reverse of Method A code\n",
    "hashes = {}\n",
    "state = states[-1]\n",
    "with gz.open(state / 'curr.json.gz') as cfile:\n",
    "    files = json.load(cfile)\n",
    "for filename,data in files.items():\n",
    "    hashes[os.path.join('curr',filename)] = data['Hashes']['sha1']\n",
    "    \n",
    "for state in states[::-1]:\n",
    "    backfile = state / 'backed_up_files.json.gz'\n",
    "    if not backfile.exists():\n",
    "        continue\n",
    "    backpath = Path('back') / state.name\n",
    "    \n",
    "    with gz.open(backfile) as bfile:\n",
    "        files = json.load(bfile)\n",
    "    \n",
    "    for filename,data in files.items():\n",
    "        hashes[str(backpath /filename)] = data['Hashes']['sha1']\n",
    "    "
   ]
  },
  {
   "cell_type": "code",
   "execution_count": null,
   "id": "be3725da-9e86-438b-b124-f46c0440555e",
   "metadata": {},
   "outputs": [],
   "source": [
    "res = {hashes[src] for src,dst in mA} == {hashes[src] for src,dst in mB}\n",
    "print(f'A == B {res}')"
   ]
  },
  {
   "cell_type": "markdown",
   "id": "5791708f-64a4-4b73-bf9a-3b5e8432a53b",
   "metadata": {},
   "source": [
    "## Compare to truth"
   ]
  },
  {
   "cell_type": "code",
   "execution_count": null,
   "id": "d5babb94-36bb-4080-8d86-b58dc55a7440",
   "metadata": {},
   "outputs": [],
   "source": [
    "with open('states/01.json') as f:\n",
    "    truth = json.load(f)"
   ]
  },
  {
   "cell_type": "code",
   "execution_count": null,
   "id": "ee17eade-6851-4d83-be34-b71e79fd1eab",
   "metadata": {},
   "outputs": [],
   "source": [
    "res = set(truth.values()) == {hashes[src] for src,dst in mA} # Transitive property also == mB\n",
    "print(f'A == Truth (and == B) {res}')"
   ]
  },
  {
   "cell_type": "code",
   "execution_count": null,
   "id": "5db4b89c-e1ec-45d6-aa80-2bf951b62b61",
   "metadata": {},
   "outputs": [],
   "source": []
  }
 ],
 "metadata": {
  "kernelspec": {
   "display_name": "Python 3 (ipykernel)",
   "language": "python",
   "name": "python3"
  },
  "language_info": {
   "codemirror_mode": {
    "name": "ipython",
    "version": 3
   },
   "file_extension": ".py",
   "mimetype": "text/x-python",
   "name": "python",
   "nbconvert_exporter": "python",
   "pygments_lexer": "ipython3",
   "version": "3.9.12"
  }
 },
 "nbformat": 4,
 "nbformat_minor": 5
}
