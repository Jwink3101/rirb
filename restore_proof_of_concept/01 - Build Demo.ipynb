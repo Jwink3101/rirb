{
 "cells": [
  {
   "cell_type": "markdown",
   "id": "f1f9741b-5d92-43d8-844b-177b6db61e6c",
   "metadata": {},
   "source": [
    "# Build the demo. \n",
    "\n",
    "Use `testutils` to help with it. The actions are annotated here to try to provide some of the issuesstates = Path('states') # Should be LOCAL\n",
    "\n",
    "try:\n",
    "    shutil.rmtree(states)\n",
    "except OSError:\n",
    "    pass\n",
    "states.mkdir(parents=True,exist_ok=False)\n",
    "(states / '.ignore').touch()"
   ]
  },
  {
   "cell_type": "code",
   "execution_count": null,
   "id": "00cfea19-5e3c-43af-a312-b4ac4b0275db",
   "metadata": {},
   "outputs": [],
   "source": [
    "from pathlib import Path\n",
    "import shutil\n",
    "import json\n",
    "import hashlib\n",
    "\n",
    "states = Path('states').resolve() # Will need to the absollute later since we will move around\n",
    "\n",
    "try:\n",
    "    shutil.rmtree(states)\n",
    "except OSError:\n",
    "    pass\n",
    "states.mkdir(parents=True,exist_ok=False)\n",
    "(states / '.ignore').touch()"
   ]
  },
  {
   "cell_type": "code",
   "execution_count": null,
   "id": "82d0f820-34a8-4c30-ae37-4c44b104a039",
   "metadata": {},
   "outputs": [],
   "source": [
    "def hashsrc(num):\n",
    "    \"\"\"Will quickly hash all of the files for validation later\"\"\"\n",
    "    state = {}\n",
    "    for dirpath, dirnames, filenames in os.walk('src'):\n",
    "        for file in filenames:\n",
    "            full = os.path.join(dirpath,file)\n",
    "            with open(full,'rb') as f:\n",
    "                sha1 = hashlib.sha1(f.read()).hexdigest()\n",
    "            rel = os.path.relpath(full,'src')\n",
    "            state[rel] = sha1\n",
    "    with open(states / f'{num:02d}.json','wt') as f:\n",
    "        json.dump(state,f)"
   ]
  },
  {
   "cell_type": "code",
   "execution_count": null,
   "id": "1f2c852c-7ba6-427a-849d-3dae3f113bbc",
   "metadata": {},
   "outputs": [],
   "source": [
    "import sys,os\n",
    "\n",
    "\n",
    "PWD0 = os.getcwd()\n",
    "print(f'{PWD0 = }')\n",
    "\n",
    "if (abspath := os.path.abspath('../tests/')) not in sys.path:\n",
    "    sys.path.insert(0,abspath)\n",
    "import testutils"
   ]
  },
  {
   "cell_type": "code",
   "execution_count": null,
   "id": "05dae384-39ab-483e-8c99-3ee87a256ba1",
   "metadata": {},
   "outputs": [],
   "source": []
  },
  {
   "cell_type": "code",
   "execution_count": null,
   "id": "75d7d8fb-8bcf-49b0-aa0e-b707529db846",
   "metadata": {},
   "outputs": [],
   "source": [
    "test = testutils.Tester(name='restore_poc')\n",
    "print(f'{test.pwd = }')"
   ]
  },
  {
   "cell_type": "markdown",
   "id": "09d6ff6e-bc75-48e2-aca4-c0c1fbd59094",
   "metadata": {},
   "source": [
    "Set up the config. Also include hashes but don't use them."
   ]
  },
  {
   "cell_type": "code",
   "execution_count": null,
   "id": "8d733582-cbac-4eb3-a1fe-95aa7d753a5d",
   "metadata": {},
   "outputs": [],
   "source": [
    "test.config[\"renames\"] = \"mtime\"\n",
    "test.config['compare'] = \"mtime\"\n",
    "test.config['dt'] = 0.1\n",
    "test.config['get_hashes'] = True # Won't always use but I want to have\n",
    "test.config[\"hash_type\"] = \"sha1\"\n",
    "test.write_config()"
   ]
  },
  {
   "cell_type": "markdown",
   "id": "3752bbd0-dda9-408c-a48f-e48b350a293e",
   "metadata": {},
   "source": [
    "## State 0\n",
    "\n",
    "Start building the initial view. As part of the proof-of-concept, this will *not* be what we restore. We will restore to **State 1** "
   ]
  },
  {
   "cell_type": "code",
   "execution_count": null,
   "id": "828e4ca0-7c6d-416a-99b7-4cdf1e115d6f",
   "metadata": {
    "tags": []
   },
   "outputs": [],
   "source": [
    "test.write_pre('src/never_change.txt','will never change')\n",
    "\n",
    "# Moves\n",
    "test.write_pre('src/will_move_at_1.txt','will move at step 1')\n",
    "test.write_pre('src/will_move_at_1_mod_at_2.txt','will move at step 1 then mod')\n",
    "\n",
    "test.write_pre('src/will_move_at_3_del_at_4.txt','will move at 3 and del at 4')\n",
    "\n",
    "test.write_pre('src/subdir/will/change/file_wont_at_3.txt','Will move to a new subdir')\n",
    "test.write_pre('src/subdir/will/change/file_will_at_3.txt','Will move to a new subdir and change the name')\n",
    "\n",
    "test.write_pre('src/will_move_a_and_b_at_2-a.txt','will move at 2')\n",
    "shutil.copy2('src/will_move_a_and_b_at_2-a.txt','src/will_move_a_and_b_at_2-b.txt')\n",
    "\n",
    "test.write_pre('src/will_move_a_only_at_3-a.txt','will move at 3')\n",
    "shutil.copy2('src/will_move_a_only_at_3-a.txt','src/will_move_a_only_at_3-b.txt')\n",
    "\n",
    "# Deletes\n",
    "test.write_pre('src/delete_at_3.txt','will be deleted at 3')\n",
    "test.write_pre('src/delete_at_2_restore_at_4','restore at 4 (but change data)')\n",
    "\n",
    "# Modified\n",
    "test.write_pre('src/will_mod_at_all','mod all')\n",
    "test.write_pre('src/will_mod_at_2','mod 2')\n",
    "\n",
    "\n",
    "test.cli(\"--init\", \"config.py\")\n",
    "hashsrc(0)"
   ]
  },
  {
   "cell_type": "markdown",
   "id": "e58d6cda-adcd-44b2-b9d0-6f00895a49e3",
   "metadata": {},
   "source": [
    "## State 1"
   ]
  },
  {
   "cell_type": "code",
   "execution_count": null,
   "id": "fad9f899-224d-4339-b513-b135e5877000",
   "metadata": {
    "tags": []
   },
   "outputs": [],
   "source": [
    "shutil.move('src/will_move_at_1.txt','src/moved_at_1.txt')\n",
    "shutil.move('src/will_move_at_1_mod_at_2.txt','src/moved_at_1_mod_at_2.txt')\n",
    "\n",
    "test.write_post('src/will_mod_at_all','mod all1')\n",
    "\n",
    "test.write_pre('src/new_at_1.txt','new 1')\n",
    "\n",
    "test.cli(\"config.py\")\n",
    "hashsrc(1)"
   ]
  },
  {
   "cell_type": "markdown",
   "id": "2aef4461-8671-4767-8ffe-0262bad20bab",
   "metadata": {},
   "source": [
    "## State 2"
   ]
  },
  {
   "cell_type": "code",
   "execution_count": null,
   "id": "1460d0bd-fc08-4cf6-9517-f016a2a57f99",
   "metadata": {
    "tags": []
   },
   "outputs": [],
   "source": [
    "test.write_post('src/moved_at_1_mod_at_2.txt','at 2',mode='at')\n",
    "\n",
    "shutil.move('src/will_move_a_and_b_at_2-a.txt','src/moved_a_and_b_at_2-a.txt')\n",
    "shutil.move('src/will_move_a_and_b_at_2-b.txt','src/moved_a_and_b_at_2-b.txt')\n",
    "\n",
    "os.unlink('src/delete_at_2_restore_at_4')\n",
    "\n",
    "test.write_post('src/will_mod_at_all','mod all12')\n",
    "test.write_post('src/will_mod_at_2','mod 2_DONE')\n",
    "\n",
    "test.write_pre('src/new_at_2.txt','new 2')\n",
    "\n",
    "test.cli(\"config.py\")\n",
    "hashsrc(2)"
   ]
  },
  {
   "cell_type": "markdown",
   "id": "854bcedb-b22a-4895-a285-92406a604561",
   "metadata": {},
   "source": [
    "## State 3"
   ]
  },
  {
   "cell_type": "code",
   "execution_count": null,
   "id": "ed41a13b-8bcd-4287-94ba-bb0e8f165600",
   "metadata": {
    "tags": []
   },
   "outputs": [],
   "source": [
    "shutil.move('src/will_move_a_only_at_3-a.txt','src/moved_a_only_at_3-a.txt')\n",
    "shutil.move('src/will_move_at_3_del_at_4.txt','src/did_move_at_3_del_at_4.txt')\n",
    "\n",
    "os.makedirs('src/subdir/did/change/')\n",
    "shutil.move('src/subdir/will/change/file_wont_at_3.txt','src/subdir/did/change/file_wont_at_3.txt')\n",
    "shutil.move('src/subdir/will/change/file_will_at_3.txt','src/subdir/did/change/file_did_at_3.txt')\n",
    "\n",
    "test.write_post('src/will_mod_at_all','mod all123')\n",
    "\n",
    "os.unlink('src/delete_at_3.txt')\n",
    "\n",
    "\n",
    "test.cli(\"config.py\")\n",
    "hashsrc(3)"
   ]
  },
  {
   "cell_type": "markdown",
   "id": "fbf8b5bf-6a75-435a-9159-5aa2ab57f998",
   "metadata": {},
   "source": [
    "## State 4 (final)"
   ]
  },
  {
   "cell_type": "code",
   "execution_count": null,
   "id": "1ebd47a8-ec81-4d8e-a44a-21d62e8d1ef4",
   "metadata": {},
   "outputs": [],
   "source": [
    "test.write_post('src/delete_at_2_restore_at_4','restore at 4 (but CHANGED data)')\n",
    "test.write_post('src/will_mod_at_all','mod all1234')\n",
    "\n",
    "test.write_pre('src/new_at_4.txt','new 4')\n",
    "\n",
    "os.unlink('src/did_move_at_3_del_at_4.txt')\n",
    "\n",
    "test.cli('config.py')\n",
    "hashsrc(4)"
   ]
  },
  {
   "cell_type": "code",
   "execution_count": null,
   "id": "fe816744-ed0b-432f-a6ac-2185d7474a9d",
   "metadata": {},
   "outputs": [],
   "source": []
  }
 ],
 "metadata": {
  "kernelspec": {
   "display_name": "Python 3 (ipykernel)",
   "language": "python",
   "name": "python3"
  },
  "language_info": {
   "codemirror_mode": {
    "name": "ipython",
    "version": 3
   },
   "file_extension": ".py",
   "mimetype": "text/x-python",
   "name": "python",
   "nbconvert_exporter": "python",
   "pygments_lexer": "ipython3",
   "version": "3.9.12"
  }
 },
 "nbformat": 4,
 "nbformat_minor": 5
}
