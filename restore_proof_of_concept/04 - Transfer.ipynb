{
 "cells": [
  {
   "cell_type": "markdown",
   "id": "5bab5282-f388-4471-9ba6-f0384fb893ff",
   "metadata": {},
   "source": [
    "# Optimize and group for tranfers (OPTIONAL)\n",
    "\n",
    "Transfers can be done as individual `rclone copyto` statements but that is not efficient. It is the only approach when the name changes, though moves without renames work fine.\n",
    "\n",
    "**WARNING**: This assumes all backups have been successful. If not, some of the final calls will fail. The files aren't lost *per se* but they are in an unaccounted for backup directory (i.e., the `back/<date>` is there but not the `<logs>/date`). Further forensics will be needed.\n",
    "\n",
    "Algorithm:\n",
    "\n",
    "We will have a `copyto` list, which needs to be done one-at-a-time. \n",
    "\n",
    "Then we will have a `copy` dict. The `<key> = <src_prefix>,<dst_prefix>` is the prefix and value is a list of `<files>` such that you would call:\n",
    "\n",
    "    $ rclone copy backupdest:<src_prefix> restoredest:<dst_prefix> --files-from=file_with_<files>\n",
    "    \n",
    " "
   ]
  },
  {
   "cell_type": "code",
   "execution_count": null,
   "id": "391f35d0-6bdf-45ed-802d-8a74051e4e43",
   "metadata": {},
   "outputs": [],
   "source": [
    "import json\n",
    "import os\n",
    "from pathlib import Path\n",
    "from collections import defaultdict\n",
    "from itertools import zip_longest"
   ]
  },
  {
   "cell_type": "code",
   "execution_count": null,
   "id": "4a42f84d-96af-4727-a644-fcc6bd492e2c",
   "metadata": {},
   "outputs": [],
   "source": [
    "with open('transfer_B_tracking.json') as fobj:\n",
    "    transfers = json.load(fobj)\n",
    "transfers"
   ]
  },
  {
   "cell_type": "code",
   "execution_count": null,
   "id": "aa4a95c2-476f-4954-bfd4-aff9867af6d1",
   "metadata": {},
   "outputs": [],
   "source": []
  },
  {
   "cell_type": "code",
   "execution_count": null,
   "id": "b6a09b9d-41f8-40c3-836e-4846989aba45",
   "metadata": {},
   "outputs": [],
   "source": [
    "copyto = []\n",
    "copy = defaultdict(list)\n",
    "\n",
    "for src,dst in transfers:\n",
    "    src,dst = Path(src),Path(dst)\n",
    "    \n",
    "    if src.name != dst.name:\n",
    "        copyto.append(tuple(map(str,(src,dst))))\n",
    "        continue\n",
    "    \n",
    "    # Now we need to find the most common parts starting from the left\n",
    "    for ii,(spart,dpart) in enumerate(zip_longest(src.parts[::-1],dst.parts[::-1],fillvalue=None)):\n",
    "        if spart != dpart:\n",
    "            src_prefix = '/'.join(src.parts[:-ii])\n",
    "            dst_prefix = '/'.join(dst.parts[:-ii])\n",
    "            file = '/'.join(src.parts[-ii:])\n",
    "            break\n",
    "    else:\n",
    "        raise ValueError('Something is wrong')\n",
    "            \n",
    "    copy[src_prefix,dst_prefix].append(file)\n",
    "    "
   ]
  },
  {
   "cell_type": "code",
   "execution_count": null,
   "id": "37f6576f-3a8f-4bc8-b5e5-2ed3004923e2",
   "metadata": {},
   "outputs": [],
   "source": [
    "SAVE = False"
   ]
  },
  {
   "cell_type": "code",
   "execution_count": null,
   "id": "829b9c7a-8ad5-4312-893b-60d04b38f5ed",
   "metadata": {},
   "outputs": [],
   "source": [
    "print(f\"\"\"\\\n",
    "Run the following replacing 'backupdest:' and 'restoredest:' (including potentially with directories after the colon).\n",
    "Indented lines with '$' are commands to run. File listings are noted. Files will: {{{SAVE = }}}\n",
    "\n",
    "Copyto:\n",
    "\"\"\")\n",
    "\n",
    "for src,dst in sorted(copyto):\n",
    "    print(f\"\"\"    $ rclone copyto backupdest:{src} restoredest:{dst}\"\"\")\n",
    "\n",
    "print(\"\\nCopy:\\n\")\n",
    "\n",
    "for ii,((src_prefix,dst_prefix),files) in enumerate(sorted(copy.items(),key=lambda i:(-len(i[1]),i))):\n",
    "    print(f\"\"\"\\n    $ rclone copy backupdest:{src_prefix} restoredest:{dst_prefix} --files-from files{ii:04d}.txt {\"  # not saved\" if not SAVE else \"\"}\"\"\")\n",
    "    savetxt = '\\n'.join(files)\n",
    "    printtxt = '\\n    '.join(files)\n",
    "    print(f\"\"\"\\n'files{ii:04d}.txt' ({\"not saved\" if not SAVE else \"saved\"}):\\n    {printtxt}\"\"\")\n",
    "    print('----')\n",
    "    "
   ]
  },
  {
   "cell_type": "code",
   "execution_count": null,
   "id": "f0206af2-ac0a-4c82-a733-31fa848545c0",
   "metadata": {},
   "outputs": [],
   "source": []
  },
  {
   "cell_type": "code",
   "execution_count": null,
   "id": "417c4c32-dd0c-4d4d-94d2-70824ccd5263",
   "metadata": {},
   "outputs": [],
   "source": []
  }
 ],
 "metadata": {
  "kernelspec": {
   "display_name": "Python 3 (ipykernel)",
   "language": "python",
   "name": "python3"
  },
  "language_info": {
   "codemirror_mode": {
    "name": "ipython",
    "version": 3
   },
   "file_extension": ".py",
   "mimetype": "text/x-python",
   "name": "python",
   "nbconvert_exporter": "python",
   "pygments_lexer": "ipython3",
   "version": "3.9.12"
  }
 },
 "nbformat": 4,
 "nbformat_minor": 5
}
